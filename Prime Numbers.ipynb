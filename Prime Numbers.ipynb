{
 "cells": [
  {
   "cell_type": "code",
   "execution_count": 1,
   "metadata": {},
   "outputs": [],
   "source": [
    "def primes():\n",
    "    lst = []    \n",
    "\n",
    "    for nums in range (0,101):          #sets lower/upper bounds of loop.\n",
    "        if nums > 1:                    #(one doesn't count as a prime number)\n",
    "            \n",
    "            for i in range (2, nums):   \n",
    "                if (nums % i) == 0:     # checks for other products by seeing if element \n",
    "                                        # is divisible without remainders (and is therefore a factor).\n",
    "                    break                 \n",
    "            else:\n",
    "                lst.append(nums)            # if not...\n",
    "                                            # add to list\n",
    "\n",
    "    print(\"The primes 0 to 100 are: \",lst)"
   ]
  },
  {
   "cell_type": "code",
   "execution_count": 2,
   "metadata": {},
   "outputs": [
    {
     "name": "stdout",
     "output_type": "stream",
     "text": [
      "The primes 0 to 100 are:  [2, 3, 5, 7, 11, 13, 17, 19, 23, 29, 31, 37, 41, 43, 47, 53, 59, 61, 67, 71, 73, 79, 83, 89, 97]\n"
     ]
    }
   ],
   "source": [
    "primes()"
   ]
  },
  {
   "cell_type": "code",
   "execution_count": null,
   "metadata": {},
   "outputs": [],
   "source": []
  }
 ],
 "metadata": {
  "kernelspec": {
   "display_name": "Python 3",
   "language": "python",
   "name": "python3"
  },
  "language_info": {
   "codemirror_mode": {
    "name": "ipython",
    "version": 3
   },
   "file_extension": ".py",
   "mimetype": "text/x-python",
   "name": "python",
   "nbconvert_exporter": "python",
   "pygments_lexer": "ipython3",
   "version": "3.7.6"
  }
 },
 "nbformat": 4,
 "nbformat_minor": 4
}
